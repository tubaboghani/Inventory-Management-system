{
  "nbformat": 4,
  "nbformat_minor": 0,
  "metadata": {
    "colab": {
      "name": "record.ipynb",
      "provenance": [],
      "collapsed_sections": []
    },
    "kernelspec": {
      "name": "python3",
      "display_name": "Python 3"
    },
    "language_info": {
      "name": "python"
    }
  },
  "cells": [
    {
      "cell_type": "code",
      "metadata": {
        "id": "cGKiILX25Gt-",
        "colab": {
          "base_uri": "https://localhost:8080/"
        },
        "outputId": "83eab167-f6e6-4d7e-f84c-01d0e77c1919"
      },
      "source": [
        "import json\n",
        "\n",
        "fd=open(\"record.json\",'r')\n",
        "r=fd.read()\n",
        "fd.close()\n",
        "\n",
        "record=json.loads(r)\n",
        "\n",
        "record\n"
      ],
      "execution_count": 52,
      "outputs": [
        {
          "output_type": "execute_result",
          "data": {
            "text/plain": [
              "{'1001': {'Mfg.date': '1-20',\n",
              "  'company_name': 'britania',\n",
              "  'name': 'Choco Cake',\n",
              "  'pr': 100,\n",
              "  'qn': 360},\n",
              " '1002': {'Mfg.date': '2-21',\n",
              "  'company_name': 'britania',\n",
              "  'name': 'Milk Cake',\n",
              "  'pr': 800,\n",
              "  'qn': 100},\n",
              " '1003': {'Mfg.date': '1-19',\n",
              "  'company_name': 'pepsi',\n",
              "  'name': 'Drink',\n",
              "  'pr': 85,\n",
              "  'qn': 100},\n",
              " '1004': {'Mfg.date': '4-20',\n",
              "  'company_name': 'britania',\n",
              "  'name': 'Candy',\n",
              "  'pr': 5,\n",
              "  'qn': 988},\n",
              " '1005': {'Mfg.date': '6-21',\n",
              "  'company_name': 'cello',\n",
              "  'name': 'Pen',\n",
              "  'pr': 20,\n",
              "  'qn': 100},\n",
              " '1006': {'Mfg.date': '11-20',\n",
              "  'company_name': 'realme',\n",
              "  'name': 'Phone',\n",
              "  'pr': 50000,\n",
              "  'qn': 10},\n",
              " '1007': {'Mfg.date': '3-21',\n",
              "  'company_name': 'sony',\n",
              "  'name': 'Mic',\n",
              "  'pr': 1500,\n",
              "  'qn': 60},\n",
              " '1008': {'Mfg.date': '8-20',\n",
              "  'company_name': 'sony',\n",
              "  'name': 'Case',\n",
              "  'pr': 599,\n",
              "  'qn': 4},\n",
              " '1009': {'Mfg.date': '10-20',\n",
              "  'company_name': 'dell',\n",
              "  'name': 'Keyboard',\n",
              "  'pr': 1999,\n",
              "  'qn': 10},\n",
              " '1010': {'Mfg.date': '11-20',\n",
              "  'company_name': 'sony',\n",
              "  'name': 'headphones',\n",
              "  'pr': 200,\n",
              "  'qn': 25},\n",
              " '1011': {'Mfg.date': '12-20',\n",
              "  'company_name': 'apsara',\n",
              "  'name': 'pencil',\n",
              "  'pr': 5,\n",
              "  'qn': 100},\n",
              " '1012': {'Mfg.date': '7-20',\n",
              "  'company_name': 'lays',\n",
              "  'name': 'chips',\n",
              "  'pr': 20,\n",
              "  'qn': 150},\n",
              " '1013': {'Mfg.date': '8-20',\n",
              "  'company_name': 'vim',\n",
              "  'name': 'soap',\n",
              "  'pr': 15,\n",
              "  'qn': 200},\n",
              " '1014': {'Mfg.date': '10-20',\n",
              "  'company_name': 'kitkat',\n",
              "  'name': 'kitkat',\n",
              "  'pr': 30,\n",
              "  'qn': 350},\n",
              " '1015': {'Mfg.date': '5-20',\n",
              "  'company_name': 'sundaram',\n",
              "  'name': 'notebook',\n",
              "  'pr': 45,\n",
              "  'qn': 390},\n",
              " '1016': {'Mfg.date': '2-20',\n",
              "  'company_name': 'classmate',\n",
              "  'name': 'rubber',\n",
              "  'pr': 5,\n",
              "  'qn': 20},\n",
              " '1017': {'Mfg.date': '8-20',\n",
              "  'company_name': 'britania',\n",
              "  'name': 'biscuits',\n",
              "  'pr': 40,\n",
              "  'qn': 45},\n",
              " '1018': {'Mfg.date': '11-20',\n",
              "  'company_name': 'kinley',\n",
              "  'name': 'bottle',\n",
              "  'pr': 60,\n",
              "  'qn': 500},\n",
              " '1019': {'Mfg.date': '1-20',\n",
              "  'company_name': 'nirma',\n",
              "  'name': 'washing powder',\n",
              "  'pr': 300,\n",
              "  'qn': 100},\n",
              " '1020': {'Mfg.date': '8-20',\n",
              "  'company_name': 'sony',\n",
              "  'name': 'charger',\n",
              "  'pr': 350,\n",
              "  'qn': 90},\n",
              " '1021': {'Mfg.date': '7-20',\n",
              "  'company_name': 'gucci',\n",
              "  'name': 'wallet',\n",
              "  'pr': 199,\n",
              "  'qn': 200},\n",
              " '1022': {'Mfg.date': '9-20',\n",
              "  'company_name': 'classmate',\n",
              "  'name': 'scale',\n",
              "  'pr': 10,\n",
              "  'qn': 30},\n",
              " '1023': {'Mfg.date': '3-20',\n",
              "  'company_name': 'classmate',\n",
              "  'name': 'sharpener',\n",
              "  'pr': 5,\n",
              "  'qn': 400},\n",
              " '1024': {'Mfg.date': '2-21',\n",
              "  'company_name': 'sundaram',\n",
              "  'name': 'textbook',\n",
              "  'pr': 150,\n",
              "  'qn': 80},\n",
              " '1025': {'Mfg.date': '1-21',\n",
              "  'company_name': 'classmate',\n",
              "  'name': 'graph paper',\n",
              "  'pr': 2,\n",
              "  'qn': 180},\n",
              " '1026': {'Mfg.date': '12-20',\n",
              "  'company_name': 'fevicol',\n",
              "  'name': 'fevicol',\n",
              "  'pr': 15,\n",
              "  'qn': 30},\n",
              " '1027': {'Mfg.date': '11-20',\n",
              "  'company_name': 'classmate',\n",
              "  'name': 'scissor',\n",
              "  'pr': 25,\n",
              "  'qn': 40},\n",
              " '1028': {'Mfg.date': '9-20',\n",
              "  'company_name': 'vaselin',\n",
              "  'name': 'cream',\n",
              "  'pr': 99,\n",
              "  'qn': 10},\n",
              " '1029': {'Mfg.date': '7-20',\n",
              "  'company_name': 'ponds',\n",
              "  'name': 'powder',\n",
              "  'pr': 299,\n",
              "  'qn': 300},\n",
              " '1030': {'Mfg.date': '5-20',\n",
              "  'company_name': 'hp',\n",
              "  'name': 'laptop',\n",
              "  'pr': 40000,\n",
              "  'qn': 6},\n",
              " '1031': {'Mfg.date': '3-20',\n",
              "  'company_name': 'adidas',\n",
              "  'name': 'basket',\n",
              "  'pr': 45,\n",
              "  'qn': 100},\n",
              " '1032': {'Mfg.date': '1-21',\n",
              "  'company_name': 'adidas',\n",
              "  'name': 'bucket',\n",
              "  'pr': 89,\n",
              "  'qn': 25},\n",
              " '1033': {'Mfg.date': '3-20',\n",
              "  'company_name': 'lakme',\n",
              "  'name': 'lipstick',\n",
              "  'pr': 200,\n",
              "  'qn': 105},\n",
              " '1034': {'Mfg.date': '5-20',\n",
              "  'company_name': 'huda',\n",
              "  'name': 'eyeliner',\n",
              "  'pr': 89,\n",
              "  'qn': 50},\n",
              " '1035': {'Mfg.date': '7-21',\n",
              "  'company_name': 'adidas',\n",
              "  'name': 'jacket',\n",
              "  'pr': 400,\n",
              "  'qn': 20}}"
            ]
          },
          "metadata": {},
          "execution_count": 52
        }
      ]
    },
    {
      "cell_type": "code",
      "metadata": {
        "colab": {
          "base_uri": "https://localhost:8080/"
        },
        "id": "gOsfNLYv5Iwu",
        "outputId": "f5bd09b9-6dca-4d9b-f193-3a217ed77c0d"
      },
      "source": [
        "no=int(input(\"enter a number of new element you want to enter in your inventory management system\\n\"))\n",
        "\n",
        "4\n",
        "   prod_id=str(input(\"enter product id: \"))\n",
        "   name=str(input(\"enter a name: \"))\n",
        "   pr=int(input(\"enter a price: \"))\n",
        "   qn=int(input(\"enter a quantity: \"))\n",
        "   com_name=str(input(\"enter a company name\"))\n",
        "   mfg_date=str(input(\"enter a manufacturing date\")) \n",
        "\n",
        "\n",
        "   record[prod_id]={'name': name, 'pr': pr,'qn': qn, 'Mfg.date': mfg_date, 'company_name': com_name}\n",
        "   print(\"element is added  to record\\n\")\n"
      ],
      "execution_count": 46,
      "outputs": [
        {
          "output_type": "stream",
          "name": "stdout",
          "text": [
            "enter a number of new element you want to enter in your inventory management system\n",
            "2\n",
            "enter product id: 1034\n",
            "enter a name: eyeliner\n",
            "enter a price: 89\n",
            "enter a quantity: 45\n",
            "enter a company namehuda\n",
            "enter a manufacturing date5-20\n",
            "element is added  to record\n",
            "\n",
            "enter product id: 1035\n",
            "enter a name: jacket\n",
            "enter a price: 400\n",
            "enter a quantity: 20\n",
            "enter a company nameadidas\n",
            "enter a manufacturing date7-21\n",
            "element is added  to record\n",
            "\n"
          ]
        }
      ]
    },
    {
      "cell_type": "code",
      "metadata": {
        "colab": {
          "base_uri": "https://localhost:8080/"
        },
        "id": "YAi5k7X87YGv",
        "outputId": "de5ce98f-6764-47ba-9842-6547f357895d"
      },
      "source": [
        "js=json.dumps(record)\n",
        "fd=open(\"record.json\",'w')\n",
        "fd.write(js)\n",
        "\n",
        "fd.close()\n",
        "\n",
        "print(\"new elements is successfully added to your inventory managment system\")"
      ],
      "execution_count": 48,
      "outputs": [
        {
          "output_type": "stream",
          "name": "stdout",
          "text": [
            "new elements is successfully added to your inventory managment system\n"
          ]
        }
      ]
    },
    {
      "cell_type": "code",
      "metadata": {
        "colab": {
          "base_uri": "https://localhost:8080/"
        },
        "id": "UtkNU6kR89Kk",
        "outputId": "5b5e5441-a297-460e-e46f-f4f6a2ed3fef"
      },
      "source": [
        "no=int(input(\"enter a no of products you want to purchase\\n\"))\n",
        "\n",
        "for i in range(1,no+1):\n",
        "   ui_prod=str(input(\"enter a product id : \"))\n",
        "   ui_quant=int(input(\"enter a quantity you want to purachse\"))\n",
        "\n",
        "   print(\"product: \",record[ui_prod]['name'])\n",
        "   print(\"price :\",record[ui_prod]['pr'])\n",
        "   print(\"billing amount : \", record[ui_prod]['pr']* ui_quant)\n",
        "\n",
        "   record[ui_prod]['qn']=record[ui_prod]['qn'] + ui_quant\n",
        "\n"
      ],
      "execution_count": 49,
      "outputs": [
        {
          "output_type": "stream",
          "name": "stdout",
          "text": [
            "enter a no of products you want to purchase\n",
            "2\n",
            "enter a product id : 1034\n",
            "enter a quantity you want to purachse5\n",
            "product:  eyeliner\n",
            "price : 89\n",
            "billing amount :  445\n",
            "enter a product id : 1007\n",
            "enter a quantity you want to purachse20\n",
            "product:  Mic\n",
            "price : 1500\n",
            "billing amount :  30000\n"
          ]
        }
      ]
    },
    {
      "cell_type": "code",
      "metadata": {
        "id": "RWnPsXg_i8_W"
      },
      "source": [
        "js=json.dumps(record)\n",
        "\n",
        "fd=open(\"record.json\",'w')\n",
        "fd.write(js)\n",
        "fd.close()"
      ],
      "execution_count": 51,
      "outputs": []
    }
  ]
}